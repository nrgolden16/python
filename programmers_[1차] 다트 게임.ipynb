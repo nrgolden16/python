{
 "cells": [
  {
   "cell_type": "code",
   "execution_count": 31,
   "metadata": {},
   "outputs": [
    {
     "name": "stdout",
     "output_type": "stream",
     "text": [
      "총점수: 59\n"
     ]
    }
   ],
   "source": [
    "dartResult=\"1D2S3T*\"\n",
    "score_lst=[]\n",
    "dart_type=[]\n",
    "for v,i in enumerate(dartResult):\n",
    "    if i in [str(i) for i in range(1,10)]:\n",
    "        if i==\"1\" and dartResult[v+1]==\"0\":\n",
    "            score=int(dartResult[v:v+2])\n",
    "            score_lst.append(score)\n",
    "        else:\n",
    "            score=int(i)\n",
    "            score_lst.append(score)\n",
    "    elif i==\"0\":\n",
    "        try:\n",
    "            if dartResult[v-1]==\"1\":\n",
    "                continue\n",
    "            else:\n",
    "                score_lst.append(0)\n",
    "        except:\n",
    "            score_lst.append(0)\n",
    "    elif i in [\"S\",\"D\",\"T\"]:\n",
    "        try : \n",
    "            if dartResult[v+1] in [\"*\",\"#\"]:\n",
    "                dart_type.append(dartResult[v:v+2])\n",
    "            else:\n",
    "                dart_type.append(i)\n",
    "        except:\n",
    "            dart_type.append(i)\n",
    "# print(\"영역:\",dart_type)\n",
    "# print(\"처음점수:\",score_lst)        \n",
    "tot_score_lst=[]\n",
    "for m,n in zip(score_lst,dart_type):\n",
    "    if n.startswith(\"S\"):\n",
    "        tot_score_lst.append(m**1)\n",
    "    elif n.startswith(\"D\"):\n",
    "        tot_score_lst.append(m**2)\n",
    "    elif n.startswith(\"T\"):\n",
    "        tot_score_lst.append(m**3)\n",
    "# print(\"영역 별 점수:\",tot_score_lst)\n",
    "for j,k in enumerate(dart_type):\n",
    "#     print(tot_score_lst)\n",
    "#     print(\"index:\",j,\"디트 영역:\",k)\n",
    "    if k.find(\"*\")!=-1:\n",
    "        tot_score_lst[j]=tot_score_lst[j]*2\n",
    "        if j==0:\n",
    "            continue\n",
    "        else:\n",
    "            tot_score_lst[j-1]=tot_score_lst[j-1]*2\n",
    "    if k.find(\"#\")!=-1:\n",
    "        tot_score_lst[j]=(tot_score_lst[j]*(-1))\n",
    "#     print(tot_score_lst)\n",
    "# print(\"최종점수:\",tot_score_lst)            \n",
    "answer=sum(tot_score_lst)\n",
    "print(\"총점수:\",answer)"
   ]
  },
  {
   "cell_type": "code",
   "execution_count": 34,
   "metadata": {},
   "outputs": [
    {
     "name": "stdout",
     "output_type": "stream",
     "text": [
      "[('1', 'D', ''), ('2', 'S', '#'), ('10', 'S', '')]\n",
      "[1, -2, 10]\n"
     ]
    },
    {
     "data": {
      "text/plain": [
       "9"
      ]
     },
     "execution_count": 34,
     "metadata": {},
     "output_type": "execute_result"
    }
   ],
   "source": [
    "import re\n",
    "\n",
    "\n",
    "def solution(dartResult):\n",
    "    bonus = {'S' : 1, 'D' : 2, 'T' : 3}\n",
    "    option = {'' : 1, '*' : 2, '#' : -1}\n",
    "    p = re.compile('(\\d+)([SDT])([*#]?)')\n",
    "    dart = p.findall(dartResult)\n",
    "    print(dart)\n",
    "    for i in range(len(dart)):\n",
    "        if dart[i][2] == '*' and i > 0:\n",
    "            dart[i-1] *= 2\n",
    "        dart[i] = int(dart[i][0]) ** bonus[dart[i][1]] * option[dart[i][2]]\n",
    "    print(dart)\n",
    "    answer = sum(dart)\n",
    "    return answer\n",
    "\n",
    "solution(\"1D2S#10S\")"
   ]
  },
  {
   "cell_type": "code",
   "execution_count": 33,
   "metadata": {},
   "outputs": [
    {
     "name": "stdout",
     "output_type": "stream",
     "text": [
      "re.compile('(\\\\d+)([SDT])([*#]?)')\n"
     ]
    }
   ],
   "source": []
  },
  {
   "cell_type": "code",
   "execution_count": 10,
   "metadata": {},
   "outputs": [
    {
     "data": {
      "text/plain": [
       "[2, 2, 3]"
      ]
     },
     "execution_count": 10,
     "metadata": {},
     "output_type": "execute_result"
    }
   ],
   "source": []
  },
  {
   "cell_type": "code",
   "execution_count": null,
   "metadata": {},
   "outputs": [],
   "source": []
  },
  {
   "cell_type": "code",
   "execution_count": 39,
   "metadata": {},
   "outputs": [
    {
     "data": {
      "text/plain": [
       "5"
      ]
     },
     "execution_count": 39,
     "metadata": {},
     "output_type": "execute_result"
    }
   ],
   "source": [
    "import re\n",
    "def solution(dartResult):\n",
    "    bonus={'S':1,'D':2,'T':3}\n",
    "    option={'':1,'*':2,'#':-1}\n",
    "    p=re.compile('(\\d+)([SDT])([*#]?)')\n",
    "    dart=p.findall(dartResult)\n",
    "    for i in range(len(dart)):\n",
    "        if dart[i][2]==\"*\" and i>0:\n",
    "            dart[i-1]*=2\n",
    "        dart[i]=int(dart[i][0])**bonus[dart[i][1]]*option[dart[i][2]]\n",
    "    answer=sum(dart)\n",
    "    return answer\n",
    "solution(\"1D#2S*3S\")"
   ]
  },
  {
   "cell_type": "code",
   "execution_count": null,
   "metadata": {},
   "outputs": [],
   "source": []
  },
  {
   "cell_type": "code",
   "execution_count": null,
   "metadata": {},
   "outputs": [],
   "source": []
  },
  {
   "cell_type": "code",
   "execution_count": null,
   "metadata": {},
   "outputs": [],
   "source": []
  },
  {
   "cell_type": "code",
   "execution_count": null,
   "metadata": {},
   "outputs": [],
   "source": []
  },
  {
   "cell_type": "code",
   "execution_count": null,
   "metadata": {},
   "outputs": [],
   "source": []
  },
  {
   "cell_type": "code",
   "execution_count": null,
   "metadata": {},
   "outputs": [],
   "source": []
  },
  {
   "cell_type": "code",
   "execution_count": null,
   "metadata": {},
   "outputs": [],
   "source": []
  },
  {
   "cell_type": "code",
   "execution_count": null,
   "metadata": {},
   "outputs": [],
   "source": []
  },
  {
   "cell_type": "code",
   "execution_count": null,
   "metadata": {},
   "outputs": [],
   "source": []
  }
 ],
 "metadata": {
  "kernelspec": {
   "display_name": "Python 3",
   "language": "python",
   "name": "python3"
  },
  "language_info": {
   "codemirror_mode": {
    "name": "ipython",
    "version": 3
   },
   "file_extension": ".py",
   "mimetype": "text/x-python",
   "name": "python",
   "nbconvert_exporter": "python",
   "pygments_lexer": "ipython3",
   "version": "3.7.4"
  }
 },
 "nbformat": 4,
 "nbformat_minor": 4
}
